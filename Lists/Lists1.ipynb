{
 "cells": [
  {
   "cell_type": "markdown",
   "metadata": {
    "id": "Mxypr15V3U7e"
   },
   "source": [
    "1.Are lists mutable or immutable, explain with an example"
   ]
  },
  {
   "cell_type": "code",
   "execution_count": 1,
   "metadata": {
    "id": "c_aTKXsT3p0P"
   },
   "outputs": [
    {
     "name": "stdout",
     "output_type": "stream",
     "text": [
      "Address of the list is  1384269567424  and contents are :  [1, 2, 3]\n",
      "Address of modified list is  1384269567424  and contents are :  [1, 2, 3, 4]\n"
     ]
    }
   ],
   "source": [
    "# Yes, they are Mutable\n",
    "\n",
    "l = [1,2,3]\n",
    "\n",
    "print(\"Address of the list is \",id(l),\" and contents are : \", l)\n",
    "\n",
    "l.append(4)\n",
    "\n",
    "print(\"Address of modified list is \", id(l), \" and contents are : \", l)"
   ]
  },
  {
   "cell_type": "markdown",
   "metadata": {
    "id": "uPYH4kpZ3U97"
   },
   "source": [
    "2.Take any example of list on your own and perform atleast 5 list operations on that"
   ]
  },
  {
   "cell_type": "code",
   "execution_count": 5,
   "metadata": {
    "id": "vSxe0pwG36ME"
   },
   "outputs": [
    {
     "name": "stdout",
     "output_type": "stream",
     "text": [
      "[1, 2, 4]\n",
      "[1, 2, 4, 5]\n",
      "[1, 4, 5]\n",
      "[2, 1, 4, 5]\n",
      "[5, 4, 1, 2]\n",
      "[1, 2, 4, 5]\n"
     ]
    }
   ],
   "source": [
    "l = [1,2,4]\n",
    "\n",
    "print(l)\n",
    "l.append(5) #appending\n",
    "print(l)\n",
    "\n",
    "l.remove(2) #removing\n",
    "print(l)\n",
    "\n",
    "l.insert(0,2) # inserting\n",
    "print(l)\n",
    "\n",
    "l.reverse() #reversing\n",
    "print(l)\n",
    "\n",
    "l.sort() # sorting\n",
    "print(l)\n"
   ]
  },
  {
   "cell_type": "markdown",
   "metadata": {
    "id": "1aSo9eEU3VAT"
   },
   "source": [
    "3.Create a new list containing only the even numbers from the original list.\n",
    "\n",
    "original list ;[1,2,2,4,5,6,7,12,3,456,78,67,89,90]"
   ]
  },
  {
   "cell_type": "code",
   "execution_count": 7,
   "metadata": {
    "id": "e-_3vMX54Upe"
   },
   "outputs": [
    {
     "name": "stdout",
     "output_type": "stream",
     "text": [
      "[2, 2, 4, 6, 12, 456, 78, 90]\n"
     ]
    }
   ],
   "source": [
    "l = []\n",
    "a = [1,2,2,4,5,6,7,12,3,456,78,67,89,90]\n",
    "\n",
    "for i in a:\n",
    "    if i % 2 == 0:\n",
    "        l.append(i)\n",
    "\n",
    "print(l)"
   ]
  },
  {
   "cell_type": "markdown",
   "metadata": {
    "id": "y1b95q7k3VCz"
   },
   "source": [
    "4.Create a new list with the squares of each element in the original list.\n",
    "\n",
    "original list : [3,5,6,8,2,45]"
   ]
  },
  {
   "cell_type": "code",
   "execution_count": 8,
   "metadata": {
    "id": "97M5xax24jM4"
   },
   "outputs": [
    {
     "name": "stdout",
     "output_type": "stream",
     "text": [
      "[9, 25, 36, 64, 4, 2025]\n"
     ]
    }
   ],
   "source": [
    "l = []\n",
    "a = [3,5,6,8,2,45]\n",
    "\n",
    "for i in a:\n",
    "    l.append(i*i)\n",
    "\n",
    "print(l)"
   ]
  },
  {
   "cell_type": "markdown",
   "metadata": {
    "id": "pzrQ5WBZ3VFQ"
   },
   "source": [
    "5.Check if all elements in the list are positive and return all the positive elements in a new list.\n",
    "\n",
    "input ; [12,23,4,56,77,-89,7,90,90,-87,-99]"
   ]
  },
  {
   "cell_type": "code",
   "execution_count": 9,
   "metadata": {
    "id": "8x0148io5FcT"
   },
   "outputs": [
    {
     "name": "stdout",
     "output_type": "stream",
     "text": [
      "[12, 23, 4, 56, 77, 7, 90, 90]\n"
     ]
    }
   ],
   "source": [
    "l = []\n",
    "a = [12,23,4,56,77,-89,7,90,90,-87,-99]\n",
    "\n",
    "for i in a:\n",
    "    if i > 0:\n",
    "        l.append(i)\n",
    "\n",
    "print(l)\n"
   ]
  }
 ],
 "metadata": {
  "colab": {
   "provenance": []
  },
  "kernelspec": {
   "display_name": "Python 3",
   "name": "python3"
  },
  "language_info": {
   "codemirror_mode": {
    "name": "ipython",
    "version": 3
   },
   "file_extension": ".py",
   "mimetype": "text/x-python",
   "name": "python",
   "nbconvert_exporter": "python",
   "pygments_lexer": "ipython3",
   "version": "3.12.2"
  }
 },
 "nbformat": 4,
 "nbformat_minor": 0
}
