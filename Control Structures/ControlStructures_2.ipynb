{
  "nbformat": 4,
  "nbformat_minor": 0,
  "metadata": {
    "colab": {
      "provenance": []
    },
    "kernelspec": {
      "name": "python3",
      "display_name": "Python 3"
    },
    "language_info": {
      "name": "python"
    }
  },
  "cells": [
    {
      "cell_type": "markdown",
      "source": [
        "*** USE THE CONCEPT OF LOOPS TO SOLVE THE BELOW PROGRAMS***"
      ],
      "metadata": {
        "id": "LntIlHO5OfPf"
      }
    },
    {
      "cell_type": "markdown",
      "source": [
        "1) Python program to count the total number of digits in a number.\n",
        "\n",
        "TAKE THE INPUT NUMBER : 123456\n",
        "\n",
        "\n",
        "\n"
      ],
      "metadata": {
        "id": "vxHfbNtoOfRV"
      }
    },
    {
      "cell_type": "code",
      "source": [
        "#wRITE YOUR CODE HERE\n",
        "x = int(input(\"Enter the input number : \"))\n",
        "cnt = 0\n",
        "num = x\n",
        "while num != 0 :\n",
        "    cnt += 1\n",
        "    num //= 10\n",
        "print(\"The no.of digits\",x,\" has is :\",cnt)"
      ],
      "metadata": {
        "id": "_PKg5umLO2-q",
        "colab": {
          "base_uri": "https://localhost:8080/"
        },
        "outputId": "ead530c1-407b-435c-f0ad-3f4d6f798bc9"
      },
      "execution_count": 1,
      "outputs": [
        {
          "output_type": "stream",
          "name": "stdout",
          "text": [
            "Enter the input number : 123456\n",
            "The no.of digits 123456  has is : 6\n"
          ]
        }
      ]
    },
    {
      "cell_type": "markdown",
      "source": [
        "2) Python program to count the number of even and odd numbers from a series of numbers.\n",
        "\n",
        "num_list = [1,3,5,6,99,134,55]"
      ],
      "metadata": {
        "id": "bXf8Z8feOfTn"
      }
    },
    {
      "cell_type": "code",
      "source": [
        "#WRITE YOUR CODE HERE\n",
        "nums = [1,3,5,6,99,134,55]\n",
        "even,odd = 0,0\n",
        "for i in nums:\n",
        "    if i % 2 == 0:\n",
        "        even += 1\n",
        "    else :\n",
        "        odd += 1\n",
        "print(\"The no.of even numbers in the series are :\",even)\n",
        "print(\"The no.of odd numbers in the series are :\",odd)"
      ],
      "metadata": {
        "id": "QzZjjwRCPIip",
        "colab": {
          "base_uri": "https://localhost:8080/"
        },
        "outputId": "7b675c0a-7399-4cd8-83f6-1bcadc47f98e"
      },
      "execution_count": 2,
      "outputs": [
        {
          "output_type": "stream",
          "name": "stdout",
          "text": [
            "The no.of even numbers in the series are : 2\n",
            "The no.of odd numbers in the series are : 5\n"
          ]
        }
      ]
    },
    {
      "cell_type": "markdown",
      "source": [
        "3) Python program to get the Fibonacci series between 0 to 50."
      ],
      "metadata": {
        "id": "Ae6CdE7hOfWZ"
      }
    },
    {
      "cell_type": "code",
      "source": [
        "#WRITE YOUR CODE HERE\n",
        "f1 = 0\n",
        "f2 = 1\n",
        "f3 = 1\n",
        "print(f1,end=\" \")\n",
        "while f3<50:\n",
        "    print(f3,end=\" \")\n",
        "    f3 = f1 + f2\n",
        "    f1 = f2\n",
        "    f2 = f3"
      ],
      "metadata": {
        "id": "_IIZYCLPPTwI",
        "colab": {
          "base_uri": "https://localhost:8080/"
        },
        "outputId": "7dbe21d6-6631-4db7-d06a-cfe94804fdd3"
      },
      "execution_count": 1,
      "outputs": [
        {
          "output_type": "stream",
          "name": "stdout",
          "text": [
            "0 1 1 2 3 5 8 13 21 34 "
          ]
        }
      ]
    },
    {
      "cell_type": "markdown",
      "source": [
        "4) Python program that accepts a string and calculates the number of digits and letters.\n",
        "\n",
        "Input\n",
        "\n",
        "WEBBLINDERS1234"
      ],
      "metadata": {
        "id": "VYbquVMROfZz"
      }
    },
    {
      "cell_type": "code",
      "source": [
        "#WRITE YOUR CODE HERE\n",
        "s  = \"WEBBLINDERS1234\"\n",
        "num = \"0123456789\"\n",
        "digits,letters = 0,0\n",
        "for i in s:\n",
        "    if i in num:\n",
        "        digits += 1\n",
        "    else :\n",
        "      letters += 1\n",
        "print(\"letters : \",letters)\n",
        "print(\"digits : \",digits)"
      ],
      "metadata": {
        "id": "iGYeja7XPop3",
        "colab": {
          "base_uri": "https://localhost:8080/"
        },
        "outputId": "b6e10a5b-0a4f-4444-f62e-7f4cdf5834fd"
      },
      "execution_count": 2,
      "outputs": [
        {
          "output_type": "stream",
          "name": "stdout",
          "text": [
            "letters :  11\n",
            "digits :  4\n"
          ]
        }
      ]
    },
    {
      "cell_type": "markdown",
      "source": [
        "5) Python program to display all numbers within a range except the prime numbers.\n",
        "\n",
        "INPUT RANGE : 30 TO 80"
      ],
      "metadata": {
        "id": "RiVenPeDPqs_"
      }
    },
    {
      "cell_type": "code",
      "source": [
        "#WRITE YOUR CODE HERE\n",
        "def Prime(n):\n",
        "  if n<=1 : return False\n",
        "  for i in range(2,n):\n",
        "    if n%i==0: return False\n",
        "  return True\n",
        "for i in range(30,81):\n",
        "  if not Prime(i):\n",
        "    print(i,end=' ')"
      ],
      "metadata": {
        "id": "UTm21ayAPX02",
        "colab": {
          "base_uri": "https://localhost:8080/"
        },
        "outputId": "e189e6a2-e3fe-43ee-cd47-fff8c845f7d1"
      },
      "execution_count": 4,
      "outputs": [
        {
          "output_type": "stream",
          "name": "stdout",
          "text": [
            "30 32 33 34 35 36 38 39 40 42 44 45 46 48 49 50 51 52 54 55 56 57 58 60 62 63 64 65 66 68 69 70 72 74 75 76 77 78 80 "
          ]
        }
      ]
    }
  ]
}